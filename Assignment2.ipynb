{
  "nbformat": 4,
  "nbformat_minor": 0,
  "metadata": {
    "colab": {
      "name": "Assignment2.ipynb",
      "provenance": [],
      "collapsed_sections": []
    },
    "kernelspec": {
      "name": "python3",
      "display_name": "Python 3"
    },
    "language_info": {
      "name": "python"
    }
  },
  "cells": [
    {
      "cell_type": "code",
      "execution_count": 1,
      "metadata": {
        "colab": {
          "base_uri": "https://localhost:8080/"
        },
        "id": "-8Er46VhyaPx",
        "outputId": "365caec4-db5c-468e-ac6c-aac93396fe3c"
      },
      "outputs": [
        {
          "output_type": "stream",
          "name": "stdout",
          "text": [
            "enter the km values2\n",
            "the given km into miles is 1.242742\n"
          ]
        }
      ],
      "source": [
        "# write a python program to convert km to miles(1km=0.621371 miles)\n",
        "km=int(input(\"enter the km values\"))\n",
        "convert=0.621371\n",
        "miles=convert*km\n",
        "print(\"the given km into miles is\",miles)\n"
      ]
    },
    {
      "cell_type": "code",
      "source": [
        "# write a python program to convert celsius to fahrenheit(1 celcius=(c*9/5)+32)\n",
        "c=int(input(\"enter the value of c\"))\n",
        "farh=c*9/5+32\n",
        "print(\"the give temprature in farh is\",farh)"
      ],
      "metadata": {
        "colab": {
          "base_uri": "https://localhost:8080/"
        },
        "id": "xd6XFNPCzKQv",
        "outputId": "c949dd81-e434-463b-950c-998019ef31a8"
      },
      "execution_count": 2,
      "outputs": [
        {
          "output_type": "stream",
          "name": "stdout",
          "text": [
            "enter the value of c32\n",
            "the give temprature in farh is 89.6\n"
          ]
        }
      ]
    },
    {
      "cell_type": "code",
      "source": [
        "# write a python program to display calender\n",
        "import calendar\n",
        "year=int(input(\"enter the year\"))\n",
        "month=int(input(\"enter the month\"))\n",
        "mycal=calendar.month(year,month)\n",
        "print(mycal)"
      ],
      "metadata": {
        "colab": {
          "base_uri": "https://localhost:8080/"
        },
        "id": "TXNTmxpH0Zei",
        "outputId": "04a3aa2f-8351-43bd-f614-dc89167dd506"
      },
      "execution_count": 4,
      "outputs": [
        {
          "output_type": "stream",
          "name": "stdout",
          "text": [
            "enter the year2021\n",
            "enter the month12\n",
            "   December 2021\n",
            "Mo Tu We Th Fr Sa Su\n",
            "       1  2  3  4  5\n",
            " 6  7  8  9 10 11 12\n",
            "13 14 15 16 17 18 19\n",
            "20 21 22 23 24 25 26\n",
            "27 28 29 30 31\n",
            "\n"
          ]
        }
      ]
    },
    {
      "cell_type": "code",
      "source": [
        "# write a python program to solve quadratic equation\n"
      ],
      "metadata": {
        "id": "mgNgyAwe1MDM"
      },
      "execution_count": null,
      "outputs": []
    }
  ]
}