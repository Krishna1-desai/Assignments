{
  "nbformat": 4,
  "nbformat_minor": 0,
  "metadata": {
    "colab": {
      "name": "Assignment4.ipynb",
      "provenance": []
    },
    "kernelspec": {
      "name": "python3",
      "display_name": "Python 3"
    },
    "language_info": {
      "name": "python"
    }
  },
  "cells": [
    {
      "cell_type": "code",
      "execution_count": 4,
      "metadata": {
        "id": "YKgDmUAWUxsy"
      },
      "outputs": [],
      "source": [
        "# write a python program to find factorial of n\n",
        "def fact(n):\n",
        "  num=1\n",
        "  for i in range(1,n+1):\n",
        "    num=num*i\n",
        "  return num"
      ]
    },
    {
      "cell_type": "code",
      "source": [
        "fact(5)"
      ],
      "metadata": {
        "colab": {
          "base_uri": "https://localhost:8080/"
        },
        "id": "lfssrNrMXHk2",
        "outputId": "a14cee5a-4e2f-46f1-f406-d4b2fe97dfc7"
      },
      "execution_count": 5,
      "outputs": [
        {
          "output_type": "execute_result",
          "data": {
            "text/plain": [
              "120"
            ]
          },
          "metadata": {},
          "execution_count": 5
        }
      ]
    },
    {
      "cell_type": "code",
      "source": [
        "# write a python program to display the multiplication table\n",
        "n=int(input(\"enter the n value\"))\n",
        "for i in range(1,11):\n",
        "  print(n,\"*\",i,\"=\",n*i)"
      ],
      "metadata": {
        "colab": {
          "base_uri": "https://localhost:8080/"
        },
        "id": "HJBKS5LLXLWJ",
        "outputId": "23245364-bee6-4b05-85fb-43bace4bff0c"
      },
      "execution_count": 11,
      "outputs": [
        {
          "output_type": "stream",
          "name": "stdout",
          "text": [
            "enter the n value2\n",
            "2 * 1 = 2\n",
            "2 * 2 = 4\n",
            "2 * 3 = 6\n",
            "2 * 4 = 8\n",
            "2 * 5 = 10\n",
            "2 * 6 = 12\n",
            "2 * 7 = 14\n",
            "2 * 8 = 16\n",
            "2 * 9 = 18\n",
            "2 * 10 = 20\n"
          ]
        }
      ]
    },
    {
      "cell_type": "code",
      "source": [
        "# write a pyhton program to print fibonacci series\n",
        "n=int(input(\"enter the value of n\"))\n",
        "x=0\n",
        "y=1\n",
        "z=0\n",
        "while(z<=n):\n",
        "  print(z)\n",
        "  x=y\n",
        "  y=z\n",
        "  z=x+y"
      ],
      "metadata": {
        "colab": {
          "base_uri": "https://localhost:8080/"
        },
        "id": "wnge75aRaNOM",
        "outputId": "9dab1245-5cc0-4a0b-b056-00d4c832cd3b"
      },
      "execution_count": 14,
      "outputs": [
        {
          "output_type": "stream",
          "name": "stdout",
          "text": [
            "enter the value of n4\n",
            "0\n",
            "1\n",
            "1\n",
            "2\n",
            "3\n"
          ]
        }
      ]
    },
    {
      "cell_type": "code",
      "source": [
        "# write a pyhton program to print fibonacci series(second method)\n",
        "n=int(input(\"entr the value of n\"))\n",
        "first=0\n",
        "second=1\n",
        "for i in range(n):\n",
        "  print(first) # printing the value of first\n",
        "  temp=first # storing the value of first to temp\n",
        "  first=second # updating the value of second to first\n",
        "  second=temp+first #whatever the updated value is there it'll get addup\n",
        "\n"
      ],
      "metadata": {
        "colab": {
          "base_uri": "https://localhost:8080/"
        },
        "id": "JkFEJixXfI23",
        "outputId": "b1b8b2b7-842d-47ce-9358-dc1e19e3701c"
      },
      "execution_count": 16,
      "outputs": [
        {
          "output_type": "stream",
          "name": "stdout",
          "text": [
            "entr the value of n5\n",
            "0\n",
            "1\n",
            "1\n",
            "2\n",
            "3\n"
          ]
        }
      ]
    },
    {
      "cell_type": "code",
      "source": [
        "# write a python program to check armstrong number\n",
        "i=int(input(\"enter the number\"))   # if we take i=153\n",
        "orig=i                     \n",
        "sum=0\n",
        "while(i>0):    # this will check condition \n",
        "  sum=sum+(i%10)*(i%10)*(i%10)   # sum=0+(153/10)*(153/10)*(153/10) remainder is(0+3*3*3)=27(updated sum)/ 27+(15%10)*(15%10)*(15%10)=27+5*5*5=152/152+(1%10)*(1%10)*(1%10)=152+1*1*1=153\n",
        "  i=i//10  # this will eliminate the float remainder (153/10)=15.3==15(updated i) agan loop goes for while condtn/ 15//10=1.5==1\n",
        "if orig==sum:\n",
        "  print(\"this is a armstrong number\")\n",
        "else:\n",
        "  print(\"this is not a armstrong number\")\n"
      ],
      "metadata": {
        "colab": {
          "base_uri": "https://localhost:8080/"
        },
        "id": "oDJmIwkinYxX",
        "outputId": "af2390c2-e421-4a64-9555-9307cf0dcf86"
      },
      "execution_count": 17,
      "outputs": [
        {
          "output_type": "stream",
          "name": "stdout",
          "text": [
            "enter the number153\n",
            "this is a armstrong number\n"
          ]
        }
      ]
    },
    {
      "cell_type": "code",
      "source": [
        ""
      ],
      "metadata": {
        "id": "cM-fDwI_zA4Z"
      },
      "execution_count": null,
      "outputs": []
    }
  ]
}