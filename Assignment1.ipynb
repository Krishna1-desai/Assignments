{
  "nbformat": 4,
  "nbformat_minor": 0,
  "metadata": {
    "colab": {
      "name": "Assignment1.ipynb",
      "provenance": []
    },
    "kernelspec": {
      "name": "python3",
      "display_name": "Python 3"
    },
    "language_info": {
      "name": "python"
    }
  },
  "cells": [
    {
      "cell_type": "code",
      "execution_count": 1,
      "metadata": {
        "colab": {
          "base_uri": "https://localhost:8080/"
        },
        "id": "LXg54ikZkRtn",
        "outputId": "cf5060f3-dea7-432b-9673-60c2a82f29b4"
      },
      "outputs": [
        {
          "output_type": "stream",
          "name": "stdout",
          "text": [
            "hello python\n"
          ]
        }
      ],
      "source": [
        "# write a python program to print \"hello Python\"\n",
        "c=\"hello python\"\n",
        "print(c)"
      ]
    },
    {
      "cell_type": "code",
      "source": [
        "# write a python program to do aithematic operations addition and division\n",
        "def add():\n",
        "  a=int(input(\"enter the value of a\"))\n",
        "  b=int(input(\"enter the value of b\"))\n",
        "  d=a+b\n",
        "  print(\"the sum of two numbers is\",d)"
      ],
      "metadata": {
        "id": "dSc_LGj8mkb0"
      },
      "execution_count": 10,
      "outputs": []
    },
    {
      "cell_type": "code",
      "source": [
        "def div():\n",
        "  a=int(input(\"enter the value of a\"))\n",
        "  b=int(input(\"enter the value of b\"))\n",
        "  e=a/b\n",
        "  print(\"the div of two numbers is\",e)"
      ],
      "metadata": {
        "id": "OMsW9ZgTm8cD"
      },
      "execution_count": 11,
      "outputs": []
    },
    {
      "cell_type": "code",
      "source": [
        "# write a python program to find the area of a triangle\n",
        "def triangle1():\n",
        "  a=int(input(\"enter the value of a\"))\n",
        "  b=int(input(\"enter the value of b\"))\n",
        "  f=(1/2)*a*b\n",
        "  print(\"the area of the triangle is\",f)"
      ],
      "metadata": {
        "id": "AXe8rG-9pB85"
      },
      "execution_count": 12,
      "outputs": []
    },
    {
      "cell_type": "code",
      "source": [
        "triangle1()"
      ],
      "metadata": {
        "colab": {
          "base_uri": "https://localhost:8080/"
        },
        "id": "qQC90mYiqyvl",
        "outputId": "bc44a9d2-afcf-492d-a06b-7a62eebe5672"
      },
      "execution_count": 14,
      "outputs": [
        {
          "output_type": "stream",
          "name": "stdout",
          "text": [
            "enter the value of a10\n",
            "enter the value of b2\n",
            "the area of the triangle is 10.0\n"
          ]
        }
      ]
    },
    {
      "cell_type": "code",
      "source": [
        "# write a python program to generate random numbers\n",
        "import random\n",
        "number=random.randint(1,10)\n",
        "print(\"the random numbers is\", number)"
      ],
      "metadata": {
        "colab": {
          "base_uri": "https://localhost:8080/"
        },
        "id": "fdHGMcnDq2N-",
        "outputId": "623633cb-7ac0-43c8-b6d7-fd1edeb7f551"
      },
      "execution_count": 18,
      "outputs": [
        {
          "output_type": "stream",
          "name": "stdout",
          "text": [
            "the random numbers is 10\n"
          ]
        }
      ]
    },
    {
      "cell_type": "code",
      "source": [
        ""
      ],
      "metadata": {
        "id": "agQnfTXwxv6J"
      },
      "execution_count": null,
      "outputs": []
    }
  ]
}