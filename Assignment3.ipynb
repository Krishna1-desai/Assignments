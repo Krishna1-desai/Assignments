{
  "nbformat": 4,
  "nbformat_minor": 0,
  "metadata": {
    "colab": {
      "name": "Assignment3.ipynb",
      "provenance": []
    },
    "kernelspec": {
      "name": "python3",
      "display_name": "Python 3"
    },
    "language_info": {
      "name": "python"
    }
  },
  "cells": [
    {
      "cell_type": "code",
      "execution_count": 1,
      "metadata": {
        "colab": {
          "base_uri": "https://localhost:8080/"
        },
        "id": "70VILXE--eCK",
        "outputId": "ed6c4002-dcf9-471f-c3b7-6235ce038cad"
      },
      "outputs": [
        {
          "output_type": "stream",
          "name": "stdout",
          "text": [
            "enter the numbers-1\n",
            "enterd num is negative -1\n"
          ]
        }
      ],
      "source": [
        "# write a python program to check if number is positive, negative, zero\n",
        "num=int(input(\"enter the numbers\"))\n",
        "if num>0:\n",
        "  print(\"enterd num is positive\",num)\n",
        "elif num<0:\n",
        "  print(\"enterd num is negative\",num)\n",
        "elif num==0:\n",
        "  print(\"enterd number is zero\",num)"
      ]
    },
    {
      "cell_type": "code",
      "source": [
        "# write a python program to check the num is odd or even\n",
        "a=int(input(\"enter the value of a \"))\n",
        "if a%2==0:\n",
        "  print(\"this is the even num\")\n",
        "else:\n",
        "  print(\"this is the odd number\")"
      ],
      "metadata": {
        "colab": {
          "base_uri": "https://localhost:8080/"
        },
        "id": "-D8YDHJUBI_m",
        "outputId": "0d3e0d9e-b1a7-498f-cf06-1becd025f28e"
      },
      "execution_count": 2,
      "outputs": [
        {
          "output_type": "stream",
          "name": "stdout",
          "text": [
            "enter the value of a 3\n",
            "this is the odd number\n"
          ]
        }
      ]
    },
    {
      "cell_type": "code",
      "source": [
        "#write a python program to check leap year\n",
        "year=int(input(\"enter the year\"))\n",
        "if year%4==0:\n",
        "  if year%100==0:\n",
        "    if year%400==0:\n",
        "      print(\"this is a leap year\",year)\n",
        "    else:\n",
        "      print(\"this is not a leap year\",year)\n",
        "  else:\n",
        "    print(\"this is a leap year\")\n",
        "else:\n",
        "  print(\"this is not a leap year\")"
      ],
      "metadata": {
        "colab": {
          "base_uri": "https://localhost:8080/"
        },
        "id": "XZftoR_9Bz7R",
        "outputId": "888048c1-bc33-4ae6-b207-9c001fa03d0d"
      },
      "execution_count": 4,
      "outputs": [
        {
          "output_type": "stream",
          "name": "stdout",
          "text": [
            "enter the year1700\n",
            "this is not a leap year 1700\n"
          ]
        }
      ]
    },
    {
      "cell_type": "code",
      "source": [
        "# write a python program to check prime number or not\n",
        "lower=int(input(\"enter the lower range\"))\n",
        "upper=int(input(\"enter the lower range\"))\n",
        "for num in range(lower,upper+1):\n",
        "  if num>1:\n",
        "    for i in range(2,num):\n",
        "      if num%i==0:\n",
        "        break\n",
        "    else:\n",
        "      print(\"the given num is prime number\",num)"
      ],
      "metadata": {
        "colab": {
          "base_uri": "https://localhost:8080/"
        },
        "id": "7YiwwB1oLQFL",
        "outputId": "96583185-b0f3-4df9-ef67-38e1b756bc20"
      },
      "execution_count": 6,
      "outputs": [
        {
          "output_type": "stream",
          "name": "stdout",
          "text": [
            "enter the lower range5\n",
            "enter the lower range15\n",
            "the given num is prime number 5\n",
            "the given num is prime number 7\n",
            "the given num is prime number 11\n",
            "the given num is prime number 13\n"
          ]
        }
      ]
    },
    {
      "cell_type": "code",
      "source": [
        "# write a python program to print prime numbers in an interwal of 1-1000\n",
        "a=int(input(\"enter the value of a\"))\n",
        "b=int(input(\"enter the value of b\"))\n",
        "for num in range(a,b+1):\n",
        "  if num>1:\n",
        "    for i in range(2,num):\n",
        "      if num%i==0:\n",
        "        break\n",
        "    else:\n",
        "      print(\"given number is prime numbers\",num)"
      ],
      "metadata": {
        "colab": {
          "base_uri": "https://localhost:8080/"
        },
        "id": "jbC__ZmZSdSb",
        "outputId": "5fb3e025-9d6c-4b17-efd4-9ba1dd2b3b94"
      },
      "execution_count": 11,
      "outputs": [
        {
          "output_type": "stream",
          "name": "stdout",
          "text": [
            "enter the value of a1\n",
            "enter the value of b1000\n",
            "given number is prime numbers 2\n",
            "given number is prime numbers 3\n",
            "given number is prime numbers 5\n",
            "given number is prime numbers 7\n",
            "given number is prime numbers 11\n",
            "given number is prime numbers 13\n",
            "given number is prime numbers 17\n",
            "given number is prime numbers 19\n",
            "given number is prime numbers 23\n",
            "given number is prime numbers 29\n",
            "given number is prime numbers 31\n",
            "given number is prime numbers 37\n",
            "given number is prime numbers 41\n",
            "given number is prime numbers 43\n",
            "given number is prime numbers 47\n",
            "given number is prime numbers 53\n",
            "given number is prime numbers 59\n",
            "given number is prime numbers 61\n",
            "given number is prime numbers 67\n",
            "given number is prime numbers 71\n",
            "given number is prime numbers 73\n",
            "given number is prime numbers 79\n",
            "given number is prime numbers 83\n",
            "given number is prime numbers 89\n",
            "given number is prime numbers 97\n",
            "given number is prime numbers 101\n",
            "given number is prime numbers 103\n",
            "given number is prime numbers 107\n",
            "given number is prime numbers 109\n",
            "given number is prime numbers 113\n",
            "given number is prime numbers 127\n",
            "given number is prime numbers 131\n",
            "given number is prime numbers 137\n",
            "given number is prime numbers 139\n",
            "given number is prime numbers 149\n",
            "given number is prime numbers 151\n",
            "given number is prime numbers 157\n",
            "given number is prime numbers 163\n",
            "given number is prime numbers 167\n",
            "given number is prime numbers 173\n",
            "given number is prime numbers 179\n",
            "given number is prime numbers 181\n",
            "given number is prime numbers 191\n",
            "given number is prime numbers 193\n",
            "given number is prime numbers 197\n",
            "given number is prime numbers 199\n",
            "given number is prime numbers 211\n",
            "given number is prime numbers 223\n",
            "given number is prime numbers 227\n",
            "given number is prime numbers 229\n",
            "given number is prime numbers 233\n",
            "given number is prime numbers 239\n",
            "given number is prime numbers 241\n",
            "given number is prime numbers 251\n",
            "given number is prime numbers 257\n",
            "given number is prime numbers 263\n",
            "given number is prime numbers 269\n",
            "given number is prime numbers 271\n",
            "given number is prime numbers 277\n",
            "given number is prime numbers 281\n",
            "given number is prime numbers 283\n",
            "given number is prime numbers 293\n",
            "given number is prime numbers 307\n",
            "given number is prime numbers 311\n",
            "given number is prime numbers 313\n",
            "given number is prime numbers 317\n",
            "given number is prime numbers 331\n",
            "given number is prime numbers 337\n",
            "given number is prime numbers 347\n",
            "given number is prime numbers 349\n",
            "given number is prime numbers 353\n",
            "given number is prime numbers 359\n",
            "given number is prime numbers 367\n",
            "given number is prime numbers 373\n",
            "given number is prime numbers 379\n",
            "given number is prime numbers 383\n",
            "given number is prime numbers 389\n",
            "given number is prime numbers 397\n",
            "given number is prime numbers 401\n",
            "given number is prime numbers 409\n",
            "given number is prime numbers 419\n",
            "given number is prime numbers 421\n",
            "given number is prime numbers 431\n",
            "given number is prime numbers 433\n",
            "given number is prime numbers 439\n",
            "given number is prime numbers 443\n",
            "given number is prime numbers 449\n",
            "given number is prime numbers 457\n",
            "given number is prime numbers 461\n",
            "given number is prime numbers 463\n",
            "given number is prime numbers 467\n",
            "given number is prime numbers 479\n",
            "given number is prime numbers 487\n",
            "given number is prime numbers 491\n",
            "given number is prime numbers 499\n",
            "given number is prime numbers 503\n",
            "given number is prime numbers 509\n",
            "given number is prime numbers 521\n",
            "given number is prime numbers 523\n",
            "given number is prime numbers 541\n",
            "given number is prime numbers 547\n",
            "given number is prime numbers 557\n",
            "given number is prime numbers 563\n",
            "given number is prime numbers 569\n",
            "given number is prime numbers 571\n",
            "given number is prime numbers 577\n",
            "given number is prime numbers 587\n",
            "given number is prime numbers 593\n",
            "given number is prime numbers 599\n",
            "given number is prime numbers 601\n",
            "given number is prime numbers 607\n",
            "given number is prime numbers 613\n",
            "given number is prime numbers 617\n",
            "given number is prime numbers 619\n",
            "given number is prime numbers 631\n",
            "given number is prime numbers 641\n",
            "given number is prime numbers 643\n",
            "given number is prime numbers 647\n",
            "given number is prime numbers 653\n",
            "given number is prime numbers 659\n",
            "given number is prime numbers 661\n",
            "given number is prime numbers 673\n",
            "given number is prime numbers 677\n",
            "given number is prime numbers 683\n",
            "given number is prime numbers 691\n",
            "given number is prime numbers 701\n",
            "given number is prime numbers 709\n",
            "given number is prime numbers 719\n",
            "given number is prime numbers 727\n",
            "given number is prime numbers 733\n",
            "given number is prime numbers 739\n",
            "given number is prime numbers 743\n",
            "given number is prime numbers 751\n",
            "given number is prime numbers 757\n",
            "given number is prime numbers 761\n",
            "given number is prime numbers 769\n",
            "given number is prime numbers 773\n",
            "given number is prime numbers 787\n",
            "given number is prime numbers 797\n",
            "given number is prime numbers 809\n",
            "given number is prime numbers 811\n",
            "given number is prime numbers 821\n",
            "given number is prime numbers 823\n",
            "given number is prime numbers 827\n",
            "given number is prime numbers 829\n",
            "given number is prime numbers 839\n",
            "given number is prime numbers 853\n",
            "given number is prime numbers 857\n",
            "given number is prime numbers 859\n",
            "given number is prime numbers 863\n",
            "given number is prime numbers 877\n",
            "given number is prime numbers 881\n",
            "given number is prime numbers 883\n",
            "given number is prime numbers 887\n",
            "given number is prime numbers 907\n",
            "given number is prime numbers 911\n",
            "given number is prime numbers 919\n",
            "given number is prime numbers 929\n",
            "given number is prime numbers 937\n",
            "given number is prime numbers 941\n",
            "given number is prime numbers 947\n",
            "given number is prime numbers 953\n",
            "given number is prime numbers 967\n",
            "given number is prime numbers 971\n",
            "given number is prime numbers 977\n",
            "given number is prime numbers 983\n",
            "given number is prime numbers 991\n",
            "given number is prime numbers 997\n"
          ]
        }
      ]
    },
    {
      "cell_type": "code",
      "source": [
        ""
      ],
      "metadata": {
        "id": "nigsmaznT0C_"
      },
      "execution_count": null,
      "outputs": []
    }
  ]
}